{
 "cells": [
  {
   "cell_type": "code",
   "execution_count": 60,
   "metadata": {},
   "outputs": [],
   "source": [
    "from __future__ import annotations\n",
    "from dataclasses import dataclass\n",
    "from IPython.core.interactiveshell import InteractiveShell\n",
    "InteractiveShell.ast_node_interactivity = \"all\"\n",
    "\n",
    "import numpy as np\n",
    "from numpy.linalg import norm\n",
    "import sympy\n",
    "from IPython.display import display,Latex \n",
    "from sympy import symbols, Matrix, MatrixSymbol, BlockMatrix, ZeroMatrix, ones, diff, latex, sin, cos, Eq, var, trigsimp\n",
    "from sympy.core.relational import Relational\n",
    "sympy.init_printing()\n",
    "\n",
    "\n",
    "\n",
    "import matplotlib\n",
    "import matplotlib.pyplot as plt\n",
    "matplotlib.use(\"TkAgg\")"
   ]
  },
  {
   "cell_type": "code",
   "execution_count": 64,
   "metadata": {},
   "outputs": [],
   "source": [
    "\n",
    "def planar_revolute_transform(theta: sympy.Symbol, length: sympy.Symbol) -> Matrix:\n",
    "    \"\"\" Returns a transformation matrix from frame {n} to {n+1}.\n",
    "    \"\"\"\n",
    "    return Matrix(\n",
    "        [\n",
    "            [cos(theta), -sin(theta), 0, length],\n",
    "            [sin(theta), cos(theta), 0, 0],\n",
    "            [0, 0, 1, 0],\n",
    "            [0, 0, 0, 1]\n",
    "        ]\n",
    "    )\n",
    "\n",
    "def get_rotation(mat : Matrix) -> Matrix:\n",
    "    return mat[0:3, 0:3]\n",
    "\n",
    "def get_translation(mat : Matrix) -> Matrix:\n",
    "    return mat[0:3, 3]\n",
    "\n",
    "\n",
    "\n",
    "th_1, th_2 = symbols(\"theta1 theta2\")\n",
    "l_1, l_2 = symbols(\"l_1 l_2\")\n",
    "\n",
    "\n",
    "t_01 = planar_revolute_transform(th_1, 0)\n",
    "t_12 = planar_revolute_transform(th_2, l_1)\n",
    "t_23 = planar_revolute_transform(0, l_2)\n",
    "\n",
    "# forward kinematics for location of the middle link and end effector\n",
    "t_02 = trigsimp(t_01 * t_12)\n",
    "t_03 = trigsimp(t_02*t_23)\n",
    "\n",
    "\n",
    "def print_transformations():\n",
    "    # print pretty matrices\n",
    "    T_01, T_12, T_23, T_02, T_03 = symbols(\"T^0_1 T^1_2 T^2_3 T^0_2 T^0_3\")\n",
    "    transformations = {\n",
    "        T_01: t_01,\n",
    "        T_12: t_12,\n",
    "        T_23: t_23,\n",
    "        T_02: t_02,\n",
    "        T_03: t_03}\n",
    "    for sym, expr in transformations.items():\n",
    "        \n",
    "        relation = f\"$${latex(sym)} = {latex(expr)}$$\"\n",
    "        display(Latex(relation))\n",
    "# class TwoLinkRevoluteRobot:\n",
    "#    def __init__(self):\n",
    "# transformations = [t_01, t_12, t_23]\n",
    "# configuration = [th_1, th_2]\n",
    "# links = [l_1, l_2]"
   ]
  }
 ],
 "metadata": {
  "kernelspec": {
   "display_name": "Python 3.12.7 ('base')",
   "language": "python",
   "name": "python3"
  },
  "language_info": {
   "codemirror_mode": {
    "name": "ipython",
    "version": 3
   },
   "file_extension": ".py",
   "mimetype": "text/x-python",
   "name": "python",
   "nbconvert_exporter": "python",
   "pygments_lexer": "ipython3",
   "version": "3.12.7"
  },
  "orig_nbformat": 4,
  "vscode": {
   "interpreter": {
    "hash": "41f69f53cc69154b45285bf3f479e6281a6b4d2ff0e3360f13e11a35b20f84c3"
   }
  }
 },
 "nbformat": 4,
 "nbformat_minor": 2
}
