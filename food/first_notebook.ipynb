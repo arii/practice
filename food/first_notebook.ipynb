{
 "cells": [
  {
   "cell_type": "code",
   "execution_count": 42,
   "metadata": {},
   "outputs": [
    {
     "name": "stdout",
     "output_type": "stream",
     "text": [
      "hello world!\n"
     ]
    }
   ],
   "source": [
    "msg = \"hello world!\"\n",
    "print(msg)\n"
   ]
  },
  {
   "cell_type": "code",
   "execution_count": 63,
   "metadata": {},
   "outputs": [],
   "source": [
    "import sympy\n",
    "from IPython.display import display,Latex \n",
    "from sympy import symbols, Matrix, MatrixSymbol, BlockMatrix, ZeroMatrix, ones, latex"
   ]
  },
  {
   "cell_type": "code",
   "execution_count": 115,
   "metadata": {},
   "outputs": [
    {
     "data": {
      "text/latex": [
       "$$\\left[\\begin{matrix}\\tilde{u}\\\\\\tilde{v}\\\\\\tilde{w}\\\\1\\end{matrix}\\right] = \\left[\\begin{matrix}f_{x} & s & x_{0} & 0\\\\0 & f_{y} & y_{0} & 0\\\\0 & 0 & 1 & 0\\\\0 & 0 & 0 & 1\\end{matrix}\\right] \\left[\\begin{matrix}x_{c}\\\\y_{c}\\\\z_{c}\\\\1\\end{matrix}\\right] = \\left[\\begin{matrix}f_{x} x_{c} + s y_{c} + x_{0} z_{c}\\\\f_{y} y_{c} + y_{0} z_{c}\\\\z_{c}\\\\1\\end{matrix}\\right]"
      ],
      "text/plain": [
       "<IPython.core.display.Latex object>"
      ]
     },
     "metadata": {},
     "output_type": "display_data"
    },
    {
     "data": {
      "text/plain": [
       "'Update equation to reflect pixels are provided in inhomogenous coordiantes:'"
      ]
     },
     "metadata": {},
     "output_type": "display_data"
    },
    {
     "data": {
      "text/latex": [
       "$$\\left[\\begin{matrix}u\\\\v\\\\1\\\\\\frac{1}{z}\\end{matrix}\\right] = \\frac{1}{z} \\left[\\begin{matrix}f_{x} & s & x_{0} & 0\\\\0 & f_{y} & y_{0} & 0\\\\0 & 0 & 1 & 0\\\\0 & 0 & 0 & 1\\end{matrix}\\right] \\left[\\begin{matrix}x_{c}\\\\y_{c}\\\\z_{c}\\\\1\\end{matrix}\\right] = \\left[\\begin{matrix}\\frac{f_{x} x}{z} + \\frac{s y}{z} + x_{0}\\\\\\frac{f_{y} y}{z} + y_{0}\\\\1\\\\\\frac{1}{z}\\end{matrix}\\right]"
      ],
      "text/plain": [
       "<IPython.core.display.Latex object>"
      ]
     },
     "metadata": {},
     "output_type": "display_data"
    },
    {
     "data": {
      "text/latex": [
       "$$\\left[\\begin{matrix}x_{c}\\\\y_{c}\\\\z_{c}\\\\1\\end{matrix}\\right] = z \\left[\\begin{matrix}\\frac{1}{f_{x}} & - \\frac{s}{f_{x} f_{y}} & \\frac{- f_{y} x_{0} + s y_{0}}{f_{x} f_{y}} & 0\\\\0 & \\frac{1}{f_{y}} & - \\frac{y_{0}}{f_{y}} & 0\\\\0 & 0 & 1 & 0\\\\0 & 0 & 0 & 1\\end{matrix}\\right] \\left[\\begin{matrix}u\\\\v\\\\1\\\\\\frac{1}{z}\\end{matrix}\\right] = \\left[\\begin{matrix}\\frac{u z}{f_{x}} - \\frac{s v z}{f_{x} f_{y}} + \\frac{z \\left(- f_{y} x_{0} + s y_{0}\\right)}{f_{x} f_{y}}\\\\\\frac{v z}{f_{y}} - \\frac{y_{0} z}{f_{y}}\\\\z\\\\1\\end{matrix}\\right]"
      ],
      "text/plain": [
       "<IPython.core.display.Latex object>"
      ]
     },
     "metadata": {},
     "output_type": "display_data"
    },
    {
     "data": {
      "text/latex": [
       "$$\\left[\\begin{matrix}x\\\\y\\\\z\\\\1\\end{matrix}\\right] = z \\left[\\begin{matrix}r_{11} & r_{12} & r_{13} & x_{1}\\\\r_{21} & r_{22} & r_{23} & y_{1}\\\\r_{31} & r_{32} & r_{33} & z_{1}\\\\0 & 0 & 0 & 1\\end{matrix}\\right]\\left[\\begin{matrix}\\frac{1}{f_{x}} & - \\frac{s}{f_{x} f_{y}} & \\frac{- f_{y} x_{0} + s y_{0}}{f_{x} f_{y}} & 0\\\\0 & \\frac{1}{f_{y}} & - \\frac{y_{0}}{f_{y}} & 0\\\\0 & 0 & 1 & 0\\\\0 & 0 & 0 & 1\\end{matrix}\\right] \\left[\\begin{matrix}u\\\\v\\\\1\\\\\\frac{1}{z}\\end{matrix}\\right] = \\left[\\begin{matrix}\\frac{u z}{f_{x}} - \\frac{s v z}{f_{x} f_{y}} + \\frac{z \\left(- f_{y} x_{0} + s y_{0}\\right)}{f_{x} f_{y}}\\\\\\frac{v z}{f_{y}} - \\frac{y_{0} z}{f_{y}}\\\\z\\\\1\\end{matrix}\\right]"
      ],
      "text/plain": [
       "<IPython.core.display.Latex object>"
      ]
     },
     "metadata": {},
     "output_type": "display_data"
    }
   ],
   "source": [
    "W,H = symbols('W H')\n",
    "x_1, y_1, z_1, R_1 = symbols('x_1, y_1, z_1, R_1')\n",
    "f_x, f_y, x_0, y_0, s = symbols('f_x f_y x_0 y_0 s')\n",
    "r_11, r_12, r_13, r_21, r_22, r_23, r_31, r_32, r_33 = symbols(\n",
    "    'r_11 r_12 r_13 r_21 r_22 r_23 r_31 r_32 r_33'\n",
    ")\n",
    "x,y,z, x_c, y_c, z_c = symbols('x y z x_c y_c z_c')\n",
    "\n",
    "R_1 = Matrix([\n",
    "    [r_11, r_12, r_13],\n",
    "    [r_21, r_22, r_23],\n",
    "    [r_31, r_32, r_33]\n",
    "])\n",
    "C = Matrix([x_1, y_1, z_1])\n",
    "\n",
    "T_world_to_camera = Matrix([[R_1, C], [0,0,0,1]])\n",
    "extrinsic_matrix = Matrix([[R_1.transpose(), -1*R_1.transpose()*C], [0,0,0,1]])\n",
    "\n",
    "intrinsic_matrix = Matrix([\n",
    "    [f_x/W, s, x_0, 0],\n",
    "    [0, f_y/H, y_0, 0],\n",
    "    [0,0,1, 0],\n",
    "    [0, 0, 0, 1]\n",
    "    ])\n",
    "\n",
    "\n",
    "intrinsic_matrix = Matrix([\n",
    "    [f_x, s, x_0],\n",
    "    [0, f_y, y_0],\n",
    "    [0,0,1],\n",
    "    ])\n",
    "\n",
    "u,v,w,f, u_h, v_h, w_h = symbols('u v w f utilde vtilde wtilde')\n",
    "cam_p = Matrix([x_c,y_c,z_c,1])\n",
    "pix_p = Matrix([u,v,1,1/z])\n",
    "world_p = Matrix([x,y,z,1])\n",
    "in_pix_p = Matrix([u_h, v_h, w_h, 1])\n",
    "\n",
    "\n",
    "intrinsic_matrix =  Matrix([\n",
    "    [f_x, s, x_0, 0],\n",
    "    [0, f_y, y_0, 0],\n",
    "    [0,0,1, 0],\n",
    "    [0,0,0,1],\n",
    "    ])\n",
    "\n",
    "pix_eq =  (1/z) * intrinsic_matrix*Matrix([x,y,z,1])\n",
    "im_pix_eq = intrinsic_matrix*cam_p\n",
    "\n",
    "inhomogenous_pix_eq= f\"$${latex(in_pix_p)} = {latex(intrinsic_matrix)} {latex(cam_p)} = {latex(im_pix_eq)}\"\n",
    "\n",
    "homogenous_pix_eq= f\"$${latex(pix_p)} = {latex(1/z)} {latex(intrinsic_matrix)} {latex(cam_p)} = {latex(pix_eq)}\"\n",
    "\n",
    "pixel_to_camera =  intrinsic_matrix**(-1)\n",
    "c_pos = z*pixel_to_camera*pix_p\n",
    "homogenous_im_eq= f\"$${latex(cam_p)} = {latex(z)} {latex(pixel_to_camera)} {latex(pix_p)} = {latex(c_pos)}\"\n",
    "\n",
    "display(Latex(inhomogenous_pix_eq))\n",
    "display(\"Update equation to reflect pixels are provided in inhomogenous coordiantes:\")\n",
    "display(Latex(homogenous_pix_eq))\n",
    "display(Latex(homogenous_im_eq))\n",
    "\n",
    "\n",
    "pixel_to_world_eq = f\"$${latex(world_p)} = {latex(T_world_to_camera)}{latex(cam_p)}\"\n",
    "#display(Latex(pixel_to_world_eq))\n",
    "#world_to_pixel = f\"$${latex(cam_p)} = {latex(extrinsic_matrix)}{latex(world_p)}$$\"\n",
    "#display(Latex(world_to_pixel))\n",
    "homogenous_world_eq= f\"$${latex(world_p)} = {latex(z)} {latex(T_world_to_camera)}{latex(pixel_to_camera)} {latex(pix_p)} = {latex(c_pos)}\"\n",
    "display(Latex(homogenous_world_eq))\n",
    "#inhomogenous_world_eq= f\"$${latex(pix_p)} = {latex(1/z)} {latex(intrinsic_matrix)} {latex(extrinsic_matrix)}{latex(world_p)}\"\n",
    "#display(Latex(inhomogenous_world_eq))"
   ]
  },
  {
   "cell_type": "markdown",
   "metadata": {},
   "source": []
  },
  {
   "cell_type": "markdown",
   "metadata": {},
   "source": [
    "A camera projection matrix $(T_{world}^{pixel})$ transforms a 3d point $(x,y,z)$ in the world frame to pixel coordinates $(u,v,w)$:\n",
    "$$\n",
    "\\begin{bmatrix}\n",
    "u \\\\ v \\\\ w \\\\ 1\n",
    "\\end{bmatrix}\n",
    "= \n",
    "T_{world}^{pixel}\\cdot \n",
    "\\begin{bmatrix}\n",
    "x \\\\ y \\\\ z \\\\ 1\n",
    "\\end{bmatrix}\n",
    "$$\n",
    "The camera projection matrix is comprised of an intrinsic and extrinsic matrix:\n",
    "$$\n",
    " T_{world}^{pixel} = T_{intrinsic} \\cdot T_{extrinsic} \n",
    "$$.\n",
    "\n",
    "The intrinsic matrix $(T_{intrinsic})$ transforms a 3d point in the camera coordinate frame $(x_c,y_c,z_c)$ to pixel coordinates $(u,v,w)$. This transform involves both shifting and scaling a coordinate based on the image size $(M, N) and assumes (0,0) in the pixel frame starts at the upper left corner. (This assumes the provided focal distances include the relevant pixel scaling factor eg $f_x =f \\cdot x\\_scale$ and $f_y = f \\cdot y\\_scale$). \n",
    "$$ \n",
    "\\begin{bmatrix}\n",
    "u \\\\ v \\\\ w \\\\ 1\n",
    "\\end{bmatrix}\n",
    "= \n",
    "\\begin{bmatrix}\n",
    "f_x & s & x_0 & 0\\\\\n",
    "0 & f_y  & y_0 & 0 \\\\\n",
    "0 & 0 & 1 & 0 \\\\\n",
    "0 & 0 & 0 & 1\n",
    "\\end{bmatrix}\n",
    "\\cdot\n",
    "\\begin{bmatrix}\n",
    "x_c \\\\ y_c \\\\ z_c \\\\ 1\n",
    "\\end{bmatrix}\n",
    "$$.\n",
    "Where\n",
    "* $f_x, f_y$ is the focal length\n",
    "* $x_0, y_0$ is the principal offsets\n",
    "* $s$ is the skew.\n",
    "\n",
    "\n",
    "The extrinsic matrix $(T_{extrinsic})$ transforms a point from the world frame $(x,y,z)$ to the camera coordinate frame $(x_c,y_c,z_c)$. It is the inverse of the transform from the world to camera frame:\n",
    "$$\n",
    "T_{world}^{camera} = \n",
    "\\begin{bmatrix}\n",
    "R_1  & C \\\\\n",
    "\\begin{matrix}\n",
    "0 & 0 & 0 \n",
    "\\end{matrix} & 1\n",
    "\\end{bmatrix}\n",
    "$$\n",
    "\n",
    "$$\n",
    "T_{extrinsic} = \n",
    "T_{camera}^{world} = \n",
    "\\begin{bmatrix}\n",
    "R_1^T  & -R_1^T \\cdot C \\\\\n",
    "\\begin{matrix}\n",
    "0 & 0 & 0 \n",
    "\\end{matrix} & 1\n",
    "\\end{bmatrix}\n",
    "$$\n",
    "\n",
    "$$\\begin{bmatrix}\n",
    "x_c \\\\ y_c \\\\ z_c \\\\ 1\n",
    "\\end{bmatrix} = T_{extrinsic} \\cdot\n",
    "\\begin{bmatrix}\n",
    "x \\\\ y \\\\ z \\\\ 1\n",
    "\\end{bmatrix}\n",
    "$$\n",
    "\n",
    "----\n",
    "\n",
    "Solution\n",
    "1. To project a point from camera pixel coordinates to homogeneous coordinates in the camera frame we can invert the intrinsic matrix:\n",
    "$$ \\begin{bmatrix} x_c \\\\ y_c \\\\ z_c \\end{bmatrix}\n",
    " = \\begin{pmatrix}\\begin{bmatrix}\n",
    "f_x \\cdot \\alpha_x & s & x_0 \\\\\n",
    "0 & f_y \\cdot \\alpha_y & y_0  \\\\\n",
    "0 & 0 & 1 \\\\\n",
    "0 & 0 & 0 \\end{bmatrix}\n",
    "\\end{pmatrix}^{-1} \\cdot \\begin{bmatrix}u \\\\ v\\\\ w \\end{bmatrix}\n",
    "$$\n",
    "\n",
    "1. To project a point from camera pixel coordinates to world coordinates we need to invert the full camera projection matrix:\n",
    "$$ \\begin{bmatrix} x \\\\ y \\\\ z \\end{bmatrix}\n",
    " = \\begin{pmatrix} T_{intrinsic} \\cdot T_{extrinsic} \\end{pmatrix}^{-1}\n",
    "\\cdot \\begin{bmatrix}u \\\\ v\\\\ w \\end{bmatrix}\n",
    "$$\n",
    "1. \n",
    "Sources:\n",
    "* [ENB339 lecture 9: Image geometry and planar homography](https://www.youtube.com/watch?v=fVJeJMWZcq8)\n",
    "* [Dissecting the Camera Matrix, Part 2: The Extrinsic Matrix](https://ksimek.github.io/2012/08/22/extrinsic/)"
   ]
  },
  {
   "cell_type": "code",
   "execution_count": null,
   "metadata": {},
   "outputs": [
    {
     "data": {
      "text/latex": [
       "$\\displaystyle \\left(\\left[\\begin{matrix}R & C\\\\0 & \\left[\\begin{matrix}1\\end{matrix}\\right]\\end{matrix}\\right]\\right)^{-1}$"
      ],
      "text/plain": [
       "Matrix([\n",
       "[R,             C],\n",
       "[0, Matrix([[1]])]])**(-1)"
      ]
     },
     "execution_count": 139,
     "metadata": {},
     "output_type": "execute_result"
    }
   ],
   "source": [
    "R = MatrixSymbol('R', 3, 3)\n",
    "C = MatrixSymbol('C', 3, 1)\n",
    "T = BlockMatrix([[R, C], [ZeroMatrix(1,3), ones(1,1)]])\n",
    "a= T**(-1)\n",
    "a.expand()"
   ]
  },
  {
   "cell_type": "code",
   "execution_count": null,
   "metadata": {},
   "outputs": [
    {
     "data": {
      "text/plain": [
       "'\\nintrinsic_parameters = apply_central_projection*change_to_image_coordinates\\n* T_camera * (X,Y,Z, 1)\\n\\nextrinsic_paramters =T_camera (where the camera is located)\\n= (R t, 0 1)\\n\\ncamera_matrix = intrinsic_parameters * extrinsic_parameters\\n\\n'"
      ]
     },
     "execution_count": 140,
     "metadata": {},
     "output_type": "execute_result"
    }
   ],
   "source": [
    "x,y,z,u,v,w,H,W,X,Y,Z,f,p_u,p_v,u_0,v_0= symbols('x y z u v w H W X Y Z f p_u p_v u_0 v_0')\n",
    "\n",
    "def apply_central_projection(X,Y,Z):\n",
    "    # returns world frame coordinates in pinhole camera frame\n",
    "    central_projection = Matrix([[f,0,0,0], [0,f,0,0], [0,0,1,0]])\n",
    "    return central_projection * Matrix([X,Y,Z,1])\n",
    "\n",
    "\n",
    "def change_to_image_coordinates(x,y,z):\n",
    "    # scale from meters to pixels & shift \n",
    "    # the origin to the top left corner\n",
    "    # u_0 and v_0 are the center of the image frame\n",
    "    # scale is size of the image divided by the height of each pixel\n",
    "    # p_u = Width/num_width_pixels \n",
    "    # p_v = Height/num_height_pixels\n",
    "    scale_and_shift = Matrix([[1/p_u,0,u_0], [0,1/p_v,v_0], [0,1,0]])\n",
    "    return scale_and_shift * Matrix([x,y,z,1])\n",
    "\n",
    "\"\"\"\n",
    "intrinsic_parameters = apply_central_projection*change_to_image_coordinates\n",
    "* T_camera * (X,Y,Z, 1)\n",
    "\n",
    "extrinsic_paramters =T_camera (where the camera is located)\n",
    "= (R t, 0 1)\n",
    "\n",
    "camera_matrix = intrinsic_parameters * extrinsic_parameters\n",
    "\n",
    "\"\"\""
   ]
  },
  {
   "cell_type": "code",
   "execution_count": null,
   "metadata": {},
   "outputs": [],
   "source": []
  },
  {
   "cell_type": "code",
   "execution_count": null,
   "metadata": {},
   "outputs": [
    {
     "name": "stdout",
     "output_type": "stream",
     "text": [
      "Matrix([[4], [0], [0], [1]])\n"
     ]
    }
   ],
   "source": [
    "C = Matrix([\n",
    "    [512, -800, 0 , 800],\n",
    "    [512, 0 , -800, 1600],\n",
    "    [1, 0, 0 ,0]\n",
    "])\n",
    "\n",
    "def world_to_image(x,y,z):\n",
    "    # u,v,w, = C *[X,Y,Z,1]\n",
    "    # u = u/w \n",
    "    # v = v/w\n",
    "    image_coords =  C * Matrix([x,y,z,1])\n",
    "    assert image_coords[2] != 0 \n",
    "    return image_coords\n",
    "    #return (1/image_coords[2]) * image_coords\n",
    "    \n",
    "\n",
    "u,v,w = world_to_image(4,0,0)\n",
    "\n",
    "def image_to_world(x,y,z):\n",
    "    C_invert = Matrix([[C], [0, 0, 0, 1]])**-1\n",
    "    world_coords = C_invert*Matrix([x,y,z,1])\n",
    "    return world_coords\n",
    "\n",
    "print(image_to_world(u,v, w))"
   ]
  }
 ],
 "metadata": {
  "kernelspec": {
   "display_name": "Python 3.12.7 ('base')",
   "language": "python",
   "name": "python3"
  },
  "language_info": {
   "codemirror_mode": {
    "name": "ipython",
    "version": 3
   },
   "file_extension": ".py",
   "mimetype": "text/x-python",
   "name": "python",
   "nbconvert_exporter": "python",
   "pygments_lexer": "ipython3",
   "version": "3.12.7"
  },
  "orig_nbformat": 4,
  "vscode": {
   "interpreter": {
    "hash": "41f69f53cc69154b45285bf3f479e6281a6b4d2ff0e3360f13e11a35b20f84c3"
   }
  }
 },
 "nbformat": 4,
 "nbformat_minor": 2
}
